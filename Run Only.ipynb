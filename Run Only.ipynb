{
 "cells": [
  {
   "cell_type": "markdown",
   "id": "b707b21f-45d4-47e7-ae05-82c8e4825bb8",
   "metadata": {},
   "source": [
    "# 1. Import and Install Dependencies"
   ]
  },
  {
   "cell_type": "code",
   "execution_count": 1,
   "id": "374ea5c5-c658-418a-8488-2567ac58cdd6",
   "metadata": {},
   "outputs": [],
   "source": [
    "import cv2\n",
    "import numpy as np\n",
    "import os\n",
    "from matplotlib import pyplot as plt\n",
    "import time\n",
    "import mediapipe as mp"
   ]
  },
  {
   "cell_type": "markdown",
   "id": "cbe48137-dd75-43a9-bc09-4b17c29cfeaa",
   "metadata": {},
   "source": [
    "# 2. Setup Mediapipe"
   ]
  },
  {
   "cell_type": "code",
   "execution_count": 2,
   "id": "66f99c07-e2a1-4dc6-b7ba-2afc7eb02b38",
   "metadata": {},
   "outputs": [],
   "source": [
    "mp_hands = mp.solutions.hands # Holistic model\n",
    "mp_drawing = mp.solutions.drawing_utils # Drawing utilities\n",
    "mp_drawing_styles = mp.solutions.drawing_styles"
   ]
  },
  {
   "cell_type": "code",
   "execution_count": 3,
   "id": "0d5795f2-966a-4a4e-aee2-cd1e771041f3",
   "metadata": {},
   "outputs": [],
   "source": [
    "def mediapipe_detection(image, model):\n",
    "    image = cv2.cvtColor(image, cv2.COLOR_BGR2RGB) # COLOR CONVERSION BGR 2 RGB\n",
    "    image.flags.writeable = False                  # Image is no longer writeable\n",
    "    results = model.process(image)                 # Make prediction\n",
    "    image.flags.writeable = True                   # Image is now writeable \n",
    "    image = cv2.cvtColor(image, cv2.COLOR_RGB2BGR) # COLOR COVERSION RGB 2 BGR\n",
    "    return image, results"
   ]
  },
  {
   "cell_type": "code",
   "execution_count": 4,
   "id": "bdc4dc05-b25c-43bb-b49c-37c45647c494",
   "metadata": {},
   "outputs": [],
   "source": [
    "def draw_styled_landmarks(image, results):\n",
    "    if results:\n",
    "        if results.multi_hand_landmarks:\n",
    "            for hand_landmarks in results.multi_hand_landmarks:\n",
    "                mp_drawing.draw_landmarks(\n",
    "                    image,\n",
    "                    hand_landmarks,\n",
    "                    mp_hands.HAND_CONNECTIONS,\n",
    "                    mp_drawing_styles.get_default_hand_landmarks_style(),\n",
    "                    mp_drawing_styles.get_default_hand_connections_style())"
   ]
  },
  {
   "cell_type": "code",
   "execution_count": 5,
   "id": "32ccfdd2-552e-4bf8-9f3b-045ee8b51923",
   "metadata": {},
   "outputs": [],
   "source": [
    "WIDTH = 854\n",
    "HEIGHT = 480\n",
    "def rescale_frame(frame):\n",
    "    dim = (WIDTH, HEIGHT)\n",
    "    return cv2.resize(frame, dim, interpolation =cv2.INTER_AREA)"
   ]
  },
  {
   "cell_type": "markdown",
   "id": "fb21f719-eda6-4cd4-9150-e44729fb577f",
   "metadata": {},
   "source": [
    "# 3. Setup Keypoint Processing"
   ]
  },
  {
   "cell_type": "code",
   "execution_count": 6,
   "id": "062c9483-fc19-4491-b9c6-4c51ee14d210",
   "metadata": {},
   "outputs": [],
   "source": [
    "def extract_keypoints(results):\n",
    "    lh = np.zeros(21*3)\n",
    "    if (results.multi_hand_landmarks):\n",
    "        if (results.multi_hand_landmarks[0]):\n",
    "            # print([[res.x, res.y, res.z] for res in results.multi_hand_landmarks[0].landmark])\n",
    "            min_x = 9999\n",
    "            min_y = 9999\n",
    "            min_z = 9999\n",
    "            for res in results.multi_hand_landmarks[0].landmark :\n",
    "                # print(res)\n",
    "                if (res.x < min_x):\n",
    "                    min_x = res.x\n",
    "                if (res.y < min_y):\n",
    "                    min_y = res.y\n",
    "                if (res.z < min_z):\n",
    "                    min_z = res.z\n",
    "            # print (min_x)\n",
    "            # print (min_y)\n",
    "            # print (min_z)\n",
    "            for res in results.multi_hand_landmarks[0].landmark :\n",
    "                res.x -= min_x\n",
    "                res.y -= min_y\n",
    "                res.z -= min_z\n",
    "                                           \n",
    "            lh = np.array([[res.x, res.y, res.z] for res in results.multi_hand_landmarks[0].landmark]).flatten()\n",
    "            # print(lh)\n",
    "    rh = np.zeros(21*3)\n",
    "    if (results.multi_hand_landmarks):\n",
    "        if (len(results.multi_hand_landmarks) > 1):\n",
    "            min_x = 9999\n",
    "            min_y = 9999\n",
    "            min_z = 9999\n",
    "            for res in results.multi_hand_landmarks[1].landmark :\n",
    "                if (res.x < min_x):\n",
    "                    min_x = res.x\n",
    "                if (res.y < min_y):\n",
    "                    min_y = res.y\n",
    "                if (res.z < min_z):\n",
    "                    min_z = res.z\n",
    "            for res in results.multi_hand_landmarks[1].landmark :\n",
    "                res.x -= min_x\n",
    "                res.y -= min_y\n",
    "                res.z -= min_z\n",
    "            rh = np.array([[res.x, res.y, res.z] for res in results.multi_hand_landmarks[1].landmark]).flatten()\n",
    "    return np.concatenate([lh, rh])"
   ]
  },
  {
   "cell_type": "markdown",
   "id": "8b4c046d-9cb6-407b-a2c7-c8fe18261431",
   "metadata": {},
   "source": [
    "# 4. Define Training Folders"
   ]
  },
  {
   "cell_type": "code",
   "execution_count": 7,
   "id": "ad33520f-0d4d-4814-a665-df5777753823",
   "metadata": {},
   "outputs": [],
   "source": [
    "# Path for exported data, numpy arrays\n",
    "DATA_PATH = os.path.join('MP_Data') \n",
    "TRAINING_PATH = os.path.join('MS-ASL/MS-ASL/videos')\n",
    "\n",
    "# Actions that we try to detect\n",
    "# actions = np.array(['hello', 'thanks', 'iloveyou'])\n",
    "actions = np.array(['eat', 'fish', 'nice', 'milk', 'teacher', 'finish', 'cousin', 'orange', 'yes', 'student', 'sister', 'friend', 'yellow',\n",
    "                   'white', 'what', 'water', 'want', 'tired', 'pencil', 'mother', 'like', 'drink', 'again', 'table', 'school', 'no', 'help', 'blue', 'spring',\n",
    "                   'doctor', 'deaf', 'red', 'father', 'black'])\n",
    "\n",
    "# Thirty videos worth of data\n",
    "no_sequences = 30\n",
    "\n",
    "# Videos are going to be 30 frames in length\n",
    "sequence_length = 30\n",
    "\n",
    "# Folder start\n",
    "start_folder = 1"
   ]
  },
  {
   "cell_type": "markdown",
   "id": "939629fd-de3f-47cb-bb28-d198ed73142e",
   "metadata": {},
   "source": [
    "# 5. Import Train Data and Create Labels and Features"
   ]
  },
  {
   "cell_type": "code",
   "execution_count": 8,
   "id": "46527778-e354-4155-a374-9a368014ff3f",
   "metadata": {},
   "outputs": [],
   "source": [
    "from sklearn.model_selection import train_test_split\n",
    "from tensorflow.keras.utils import to_categorical"
   ]
  },
  {
   "cell_type": "code",
   "execution_count": 9,
   "id": "80e2a44c-6522-4c28-a2ab-fc40226d841b",
   "metadata": {},
   "outputs": [],
   "source": [
    "label_map = {label:num for num, label in enumerate(actions)}"
   ]
  },
  {
   "cell_type": "code",
   "execution_count": 10,
   "id": "4ce54ea2-9ca3-4aed-af82-f208fc97bc68",
   "metadata": {},
   "outputs": [],
   "source": [
    "sequences, labels = [], []\n",
    "for action in actions:\n",
    "    # print(action)\n",
    "    for sequence in range(start_folder, no_sequences + 1):\n",
    "        window = []\n",
    "        # print(sequence)\n",
    "        for frame_num in range(1, sequence_length + 1):\n",
    "            res = np.load(os.path.join(DATA_PATH, action, str(sequence), \"{}.npy\".format(frame_num)))\n",
    "            if not (res.any()):\n",
    "                print(action);\n",
    "                print(sequence)\n",
    "            window.append(res)\n",
    "            # print(frame_num)\n",
    "        sequences.append(window)\n",
    "        labels.append(label_map[action])"
   ]
  },
  {
   "cell_type": "code",
   "execution_count": 11,
   "id": "fc76e7e8-fc66-4c7e-9547-f87262686fd3",
   "metadata": {},
   "outputs": [],
   "source": [
    "X = np.array(sequences)\n",
    "y = to_categorical(labels).astype(int)\n",
    "X_train, X_test, y_train, y_test = train_test_split(X, y, test_size=0.05)"
   ]
  },
  {
   "cell_type": "markdown",
   "id": "3b502c28-1801-4154-ae9a-fa0a906cb28c",
   "metadata": {},
   "source": [
    "# 6. Build LSTM Neural Network"
   ]
  },
  {
   "cell_type": "code",
   "execution_count": 12,
   "id": "888ae520-d9b8-4276-b849-92e95609470c",
   "metadata": {},
   "outputs": [],
   "source": [
    "import tensorflow as tf\n",
    "\n",
    "tf.config.threading.set_intra_op_parallelism_threads(6)\n",
    "tf.config.threading.set_inter_op_parallelism_threads(2)"
   ]
  },
  {
   "cell_type": "code",
   "execution_count": 13,
   "id": "dcd3eb88-ba73-41a9-8c85-cd1864bc91b3",
   "metadata": {},
   "outputs": [],
   "source": [
    "from tensorflow.keras.models import Sequential\n",
    "from tensorflow.keras.layers import LSTM, Dense\n",
    "from tensorflow.keras.callbacks import TensorBoard"
   ]
  },
  {
   "cell_type": "code",
   "execution_count": 14,
   "id": "43e97f0b-ab09-49a8-ba01-84d6211467d2",
   "metadata": {},
   "outputs": [
    {
     "name": "stdout",
     "output_type": "stream",
     "text": [
      "WARNING:tensorflow:Layer lstm will not use cuDNN kernels since it doesn't meet the criteria. It will use a generic GPU kernel as fallback when running on GPU.\n",
      "WARNING:tensorflow:Layer lstm_1 will not use cuDNN kernels since it doesn't meet the criteria. It will use a generic GPU kernel as fallback when running on GPU.\n",
      "WARNING:tensorflow:Layer lstm_2 will not use cuDNN kernels since it doesn't meet the criteria. It will use a generic GPU kernel as fallback when running on GPU.\n"
     ]
    }
   ],
   "source": [
    "model = Sequential()\n",
    "model.add(LSTM(64, return_sequences=True, activation='relu', input_shape=(np.array(sequences[0]).shape)))\n",
    "model.add(LSTM(128, return_sequences=True, activation='relu'))\n",
    "model.add(LSTM(64, return_sequences=False, activation='relu'))\n",
    "model.add(Dense(64, activation='relu'))\n",
    "model.add(Dense(32, activation='relu'))\n",
    "model.add(Dense(actions.shape[0], activation='softmax'))"
   ]
  },
  {
   "cell_type": "code",
   "execution_count": 15,
   "id": "93a4a3d6-fbd6-44b5-9103-57e45ffe87c9",
   "metadata": {},
   "outputs": [],
   "source": [
    "model.compile(optimizer='Adam', loss='categorical_crossentropy', metrics=['categorical_accuracy'])"
   ]
  },
  {
   "cell_type": "markdown",
   "id": "35edc508-9eb8-4d40-a11f-55deaada7acf",
   "metadata": {},
   "source": [
    "# 7. Load Trained Model Weights"
   ]
  },
  {
   "cell_type": "code",
   "execution_count": 16,
   "id": "7d926bf9-4510-48e8-b6d4-268f78c59591",
   "metadata": {},
   "outputs": [],
   "source": [
    "model.load_weights('msasl1.h5')"
   ]
  },
  {
   "cell_type": "markdown",
   "id": "15e54c17-f1c6-4920-926a-57d1b9223b72",
   "metadata": {},
   "source": [
    "# 8. Setup Visualization"
   ]
  },
  {
   "cell_type": "code",
   "execution_count": 17,
   "id": "c01de060-bf3b-4210-9713-28b6bccc848f",
   "metadata": {},
   "outputs": [],
   "source": [
    "from scipy import stats"
   ]
  },
  {
   "cell_type": "code",
   "execution_count": 18,
   "id": "6ead12c1-978a-44af-9bd6-691613a65d2b",
   "metadata": {},
   "outputs": [],
   "source": [
    "colors = [(245,117,16), (117,245,16), (16,117,245), (16,117,245), (16,117,245)] * 10\n",
    "def prob_viz(res, actions, input_frame, colors):\n",
    "    output_frame = input_frame.copy()\n",
    "    for num, prob in enumerate(res):\n",
    "        cv2.rectangle(output_frame, (0,60+num*40), (int(prob*100), 90+num*40), colors[num], -1)\n",
    "        cv2.putText(output_frame, actions[num], (0, 85+num*40), cv2.FONT_HERSHEY_SIMPLEX, 1, (0,0,0), 2, cv2.LINE_AA)\n",
    "        \n",
    "    return output_frame"
   ]
  },
  {
   "cell_type": "code",
   "execution_count": 19,
   "id": "66c17083-1c55-496d-b299-00aeb69f5949",
   "metadata": {},
   "outputs": [],
   "source": [
    "# 1. New detection variables\n",
    "predictions = []\n",
    "res = []\n",
    "sequence = []\n",
    "threshold = 0.85\n",
    "\n",
    "import time\n",
    "\n",
    "predict = True\n",
    "\n",
    "def predict_word() :\n",
    "    global res\n",
    "    while predict :\n",
    "        time.sleep(0.5)\n",
    "        if (len(sequence) == sequence_length) :\n",
    "            res = model.predict(np.expand_dims(sequence, axis=0), verbose=None)[0]\n",
    "            # print(actions[np.argmax(res)])\n",
    "            predictions.append(np.argmax(res))\n",
    "        else:\n",
    "            res = []"
   ]
  },
  {
   "cell_type": "code",
   "execution_count": 20,
   "id": "0d85f0bb-8a6a-4acb-be27-b5cbd952da9e",
   "metadata": {},
   "outputs": [],
   "source": [
    "frame = np.zeros(1)\n",
    "run_cv_thread = True\n",
    "def run_cv():\n",
    "    global frame\n",
    "    cap = cv2.VideoCapture(0)\n",
    "    ret, frame = cap.read()\n",
    "    \n",
    "    while run_cv_thread:\n",
    "        ret, frame_new = cap.read()\n",
    "        if (ret == False):\n",
    "            break\n",
    "        frame = frame_new\n",
    "    cap.release()"
   ]
  },
  {
   "cell_type": "markdown",
   "id": "9870c7f9-20ec-4498-b7b6-e339d7154cb4",
   "metadata": {},
   "source": [
    "# 9. Run Model"
   ]
  },
  {
   "cell_type": "code",
   "execution_count": 21,
   "id": "321c27b4-22e5-4ce0-bf64-4342f8706a04",
   "metadata": {},
   "outputs": [],
   "source": [
    "import threading\n",
    "\n",
    "t1 = threading.Thread(target=predict_word, args=())\n",
    "t1.start()\n",
    "t2 = threading.Thread(target=run_cv, args=())\n",
    "t2.start()"
   ]
  },
  {
   "cell_type": "code",
   "execution_count": null,
   "id": "2a3e99fb-c2ea-47f2-87dd-2782181bd7d1",
   "metadata": {},
   "outputs": [],
   "source": [
    "frames_wo_points = 0\n",
    "\n",
    "with mp_hands.Hands(model_complexity=1, min_detection_confidence=0.5, min_tracking_confidence=0.5) as hands:\n",
    "    predictions = []\n",
    "    res = []\n",
    "    sequence = []\n",
    "    sentence = []\n",
    "    while (frame.any()):\n",
    "\n",
    "        frame = rescale_frame(frame)\n",
    "\n",
    "        # Make detections\n",
    "        image, results = mediapipe_detection(frame, hands)\n",
    "        # print(results)\n",
    "\n",
    "        # Draw landmarks\n",
    "        draw_styled_landmarks(image, results)\n",
    "\n",
    "        # 2. Prediction logic\n",
    "        keypoints = extract_keypoints(results)\n",
    "        if np.any(keypoints):\n",
    "            frames_wo_points = 0\n",
    "            sequence.append(keypoints)\n",
    "            sequence = sequence[-sequence_length:]\n",
    "        else:\n",
    "            frames_wo_points += 1\n",
    "            if (frames_wo_points >= 10):\n",
    "                sequence = []\n",
    "\n",
    "        #3. Viz logic\n",
    "        # print(np.any(predictions) & np.any(res))\n",
    "        if (np.any(predictions) & np.any(res)) :\n",
    "            if np.unique(predictions[-3:])[0]==np.argmax(res): \n",
    "                # print(res[np.argmax(res)])\n",
    "                # print(np.argmax(res))\n",
    "                if res[np.argmax(res)] > threshold: \n",
    "                    if len(sentence) > 0: \n",
    "                        if actions[np.argmax(res)] != sentence[-1]:\n",
    "                            sentence.append(actions[np.argmax(res)])\n",
    "                    else:\n",
    "                        sentence.append(actions[np.argmax(res)])\n",
    "                    # print(sentence)\n",
    "\n",
    "            if len(sentence) > 5: \n",
    "                sentence = sentence[-5:]\n",
    "            \n",
    "            \n",
    "            # Viz probabilities\n",
    "            image = prob_viz(res, actions, image, colors)\n",
    "        if (np.any(predictions)):\n",
    "            cv2.rectangle(image, (0,0), (640, 40), (245, 117, 16), -1)\n",
    "            cv2.putText(image, ' '.join(sentence), (3,30), \n",
    "            cv2.FONT_HERSHEY_SIMPLEX, 1, (255, 255, 255), 2, cv2.LINE_AA)\n",
    "\n",
    "        # Show to screenP\n",
    "        cv2.imshow('OpenCV Feed', image)\n",
    "\n",
    "        # Break gracefully\n",
    "        if cv2.waitKey(10) & 0xFF == ord('q'):\n",
    "            break\n",
    "       \n",
    "    # cap.release()\n",
    "    cv2.destroyAllWindows()"
   ]
  },
  {
   "cell_type": "markdown",
   "id": "cdba56b5-ea7f-4d4a-908b-9861fced35d5",
   "metadata": {},
   "source": [
    "# 10. Stop Processes"
   ]
  },
  {
   "cell_type": "code",
   "execution_count": 29,
   "id": "c6461a45-4e2f-49ea-99de-bd7f52e85efd",
   "metadata": {},
   "outputs": [
    {
     "ename": "NameError",
     "evalue": "name 'cap' is not defined",
     "output_type": "error",
     "traceback": [
      "\u001b[1;31m---------------------------------------------------------------------------\u001b[0m",
      "\u001b[1;31mNameError\u001b[0m                                 Traceback (most recent call last)",
      "Cell \u001b[1;32mIn[29], line 7\u001b[0m\n\u001b[0;32m      5\u001b[0m t2\u001b[38;5;241m.\u001b[39mjoin()\n\u001b[0;32m      6\u001b[0m run_cv_thread \u001b[38;5;241m=\u001b[39m \u001b[38;5;28;01mTrue\u001b[39;00m\n\u001b[1;32m----> 7\u001b[0m \u001b[43mcap\u001b[49m\u001b[38;5;241m.\u001b[39mrelease()\n\u001b[0;32m      8\u001b[0m cv2\u001b[38;5;241m.\u001b[39mdestroyAllWindows()\n",
      "\u001b[1;31mNameError\u001b[0m: name 'cap' is not defined"
     ]
    }
   ],
   "source": [
    "predict = False\n",
    "t1.join()\n",
    "predict = True\n",
    "run_cv_thread = False\n",
    "t2.join()\n",
    "run_cv_thread = True\n",
    "cv2.destroyAllWindows()"
   ]
  }
 ],
 "metadata": {
  "kernelspec": {
   "display_name": "Python 3 (ipykernel)",
   "language": "python",
   "name": "python3"
  },
  "language_info": {
   "codemirror_mode": {
    "name": "ipython",
    "version": 3
   },
   "file_extension": ".py",
   "mimetype": "text/x-python",
   "name": "python",
   "nbconvert_exporter": "python",
   "pygments_lexer": "ipython3",
   "version": "3.9.18"
  }
 },
 "nbformat": 4,
 "nbformat_minor": 5
}
